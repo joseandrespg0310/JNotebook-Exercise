{
 "cells": [
  {
   "cell_type": "code",
   "execution_count": 3,
   "id": "43dc19bb-6038-40d5-b827-272dd81b7a46",
   "metadata": {},
   "outputs": [],
   "source": [
    "import numpy as np\n",
    "from scipy.stats import ttest_1samp"
   ]
  },
  {
   "cell_type": "code",
   "execution_count": 4,
   "id": "e99663e4-432f-4f11-8455-e52ec25651b7",
   "metadata": {},
   "outputs": [],
   "source": [
    "#Crea datos d epesos de un grupo de estudiantes\n",
    "datos = np.array([63,75,84,58,52,96,63,55,76,83])"
   ]
  },
  {
   "cell_type": "code",
   "execution_count": 5,
   "id": "bf294518-d47a-4995-80c7-c4528d92f906",
   "metadata": {},
   "outputs": [
    {
     "name": "stdout",
     "output_type": "stream",
     "text": [
      "Peso promedio: 70.5\n"
     ]
    }
   ],
   "source": [
    "#halla la media de los pesos\n",
    "valor_promedio = np.mean(datos)\n",
    "print(\"Peso promedio:\",valor_promedio)"
   ]
  },
  {
   "cell_type": "code",
   "execution_count": 6,
   "id": "af63617c-6201-4256-aead-3fbb2b34c4d0",
   "metadata": {},
   "outputs": [
    {
     "name": "stdout",
     "output_type": "stream",
     "text": [
      "p valor:  0.5986851106160134\n",
      "t test valor: 0.545472577903943\n"
     ]
    }
   ],
   "source": [
    "# Hipotesis  el peso  primedio  del grupo de estudiantes es  68 kg\n",
    "# Hipótesis: El peso promedio del grupo de estudiantes es 68 kg\n",
    "# Aplicación del t test\n",
    "t_test_valor, p_valor = ttest_1samp(datos, 68)\n",
    "# Despliega resultados del t test\n",
    "print(\"p valor: \", p_valor)\n",
    "print(\"t test valor:\", t_test_valor)\n"
   ]
  },
  {
   "cell_type": "code",
   "execution_count": 7,
   "id": "99301553-d96e-428b-9b26-e2af021b668d",
   "metadata": {},
   "outputs": [
    {
     "name": "stdout",
     "output_type": "stream",
     "text": [
      "Hipótesis Aceptada\n"
     ]
    }
   ],
   "source": [
    "# Nivel de confiabilidad del 95%, que equivale a 0.05 o 5% de nivel de\n",
    "if p_valor < 0.05:\n",
    "    print(\"Hipótesis Rechazada\")\n",
    "else:\n",
    "    print(\"Hipótesis Aceptada\")\n"
   ]
  },
  {
   "cell_type": "code",
   "execution_count": 8,
   "id": "67ed5ee3-a097-4e2f-8bc1-120609c2bdb2",
   "metadata": {},
   "outputs": [],
   "source": [
    "# Importa librería scipy para test t de dos muestras independientes\n",
    "from scipy.stats import ttest_ind\n",
    "\n",
    "# Crea datos de los pesos de cada muestra\n",
    "datos1 = np.array([70, 76, 63, 63, 50, 60, 65, 66, 65, 68])\n",
    "datos2 = np.array([75, 82, 88, 77, 65, 68, 48, 65, 72, 70])\n"
   ]
  },
  {
   "cell_type": "code",
   "execution_count": 9,
   "id": "a9dd9dd0-c213-4233-b0a0-c71550b3b8ae",
   "metadata": {},
   "outputs": [
    {
     "name": "stdout",
     "output_type": "stream",
     "text": [
      "p valor:  0.13270820542768094\n",
      "t test:  -1.5748289158194895\n"
     ]
    }
   ],
   "source": [
    "# Hipótesis Alterna Ha: El peso promedio no es igual entre las muestras\n",
    "# Compara las muestras\n",
    "stat, p = ttest_ind(datos1, datos2)\n",
    "print(\"p valor: \", p)\n",
    "print(\"t test: \", stat)"
   ]
  },
  {
   "cell_type": "code",
   "execution_count": 10,
   "id": "bb0e969e-d432-4a79-a764-c4f654504bae",
   "metadata": {},
   "outputs": [
    {
     "name": "stdout",
     "output_type": "stream",
     "text": [
      "Hipotesis aceptada\n"
     ]
    }
   ],
   "source": [
    "# 0.05 o 5% de nivel de significancia\n",
    "if (p < 0.05):\n",
    "    print(\"Rechazamos la hipótesis \")\n",
    "else:\n",
    "    print(\"Hipotesis aceptada\")"
   ]
  },
  {
   "cell_type": "code",
   "execution_count": 11,
   "id": "ed92be8b-cac2-4fd6-ae23-0f311c170900",
   "metadata": {},
   "outputs": [],
   "source": [
    "# Importa librería scipy para test-t de muestras dependientes\n",
    "from scipy.stats import ttest_rel"
   ]
  },
  {
   "cell_type": "code",
   "execution_count": 12,
   "id": "cdf74fc4-2953-4d7e-b1bd-78c702a69a16",
   "metadata": {},
   "outputs": [],
   "source": [
    "# Peso antes del programa de adelgazamiento\n",
    "datos1 = np.array([63, 75, 84, 58, 52, 96, 63, 65, 76, 83])\n",
    "# Peso después del programa de adelgazamiento\n",
    "datos2 = np.array([53, 43, 67, 59, 48, 57, 65, 58, 64, 72])"
   ]
  },
  {
   "cell_type": "code",
   "execution_count": 13,
   "id": "18e04d4c-b4a5-49ab-a38b-1dfd60c0ecb2",
   "metadata": {},
   "outputs": [],
   "source": [
    "# Hipótesis nula H0: La diferencia entre el peso promedio es igual a 0\n",
    "# Hipótesis alterna Ha: La diferencia entre el peso promedio no es igual a 0\n",
    "# Compara pesos\n",
    "stat, p = ttest_rel(datos1, datos2)"
   ]
  },
  {
   "cell_type": "code",
   "execution_count": 14,
   "id": "5d27f597-cca9-47f4-8874-db8024f7d66a",
   "metadata": {},
   "outputs": [
    {
     "name": "stdout",
     "output_type": "stream",
     "text": [
      "p valor:  0.013685575312467715\n",
      "t test:  3.0548295044306903\n"
     ]
    }
   ],
   "source": [
    "# Despliega datos\n",
    "print(\"p valor: \", p)\n",
    "print(\"t test: \", stat)"
   ]
  },
  {
   "cell_type": "code",
   "execution_count": 15,
   "id": "9e7664cc-3ae1-4275-ae6b-89591ec5c526",
   "metadata": {},
   "outputs": [
    {
     "name": "stdout",
     "output_type": "stream",
     "text": [
      "Hipótesis Rechazada\n"
     ]
    }
   ],
   "source": [
    "if p < 0.05:\n",
    "    print(\"Hipótesis Rechazada\")\n",
    "else:\n",
    "    print(\"Hipótesis Aceptada\")\n"
   ]
  },
  {
   "cell_type": "code",
   "execution_count": null,
   "id": "d09f6ef6-3a5e-4a14-9449-18578720d91c",
   "metadata": {},
   "outputs": [],
   "source": []
  }
 ],
 "metadata": {
  "kernelspec": {
   "display_name": ".venv",
   "language": "python",
   "name": "python3"
  },
  "language_info": {
   "codemirror_mode": {
    "name": "ipython",
    "version": 3
   },
   "file_extension": ".py",
   "mimetype": "text/x-python",
   "name": "python",
   "nbconvert_exporter": "python",
   "pygments_lexer": "ipython3",
   "version": "3.10.2"
  }
 },
 "nbformat": 4,
 "nbformat_minor": 5
}
